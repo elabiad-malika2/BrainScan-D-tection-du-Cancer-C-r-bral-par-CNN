{
 "cells": [
  {
   "cell_type": "markdown",
   "id": "f6ee20ae",
   "metadata": {},
   "source": [
    " 03_prediction_streamlit.ipynb"
   ]
  }
 ],
 "metadata": {
  "language_info": {
   "name": "python"
  }
 },
 "nbformat": 4,
 "nbformat_minor": 5
}
