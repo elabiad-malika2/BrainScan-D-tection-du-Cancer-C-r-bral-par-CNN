{
 "cells": [
  {
   "cell_type": "markdown",
   "id": "53c214d5",
   "metadata": {},
   "source": [
    "Chargement et Prétraitement du Dataset"
   ]
  },
  {
   "cell_type": "code",
   "execution_count": 16,
   "id": "dcc1337d",
   "metadata": {},
   "outputs": [
    {
     "name": "stdout",
     "output_type": "stream",
     "text": [
      " Suppression terminée.\n"
     ]
    }
   ],
   "source": [
    "import os\n",
    "\n",
    "data_dir = r\"C:\\Users\\elabi\\OneDrive\\Desktop\\BrainScan_Détection_Cancer_CNN\\data\\Data\"\n",
    "\n",
    "valid_extensions = ['.jpg', '.jpeg', '.png', '.bmp']\n",
    "\n",
    "# Parcourir tous les sous-dossiers (glioma, meningioma, etc.)\n",
    "for folder in os.listdir(data_dir):\n",
    "    folder_path = os.path.join(data_dir, folder)\n",
    "    \n",
    "    if os.path.isdir(folder_path):\n",
    "        for file in os.listdir(folder_path):\n",
    "            file_path = os.path.join(folder_path, file)\n",
    "            ext = os.path.splitext(file)[1].lower()  # extraire l’extension\n",
    "            \n",
    "            if ext not in valid_extensions:\n",
    "                os.remove(file_path)\n",
    "                print(f\" Fichier supprimé : {file_path}\")\n",
    "\n",
    "print(\" Suppression terminée.\")\n"
   ]
  }
 ],
 "metadata": {
  "kernelspec": {
   "display_name": ".venv",
   "language": "python",
   "name": "python3"
  },
  "language_info": {
   "codemirror_mode": {
    "name": "ipython",
    "version": 3
   },
   "file_extension": ".py",
   "mimetype": "text/x-python",
   "name": "python",
   "nbconvert_exporter": "python",
   "pygments_lexer": "ipython3",
   "version": "3.13.7"
  }
 },
 "nbformat": 4,
 "nbformat_minor": 5
}
