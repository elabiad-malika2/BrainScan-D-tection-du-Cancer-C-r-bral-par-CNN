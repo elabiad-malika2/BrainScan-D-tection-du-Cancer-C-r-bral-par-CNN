{
 "cells": [
  {
   "cell_type": "markdown",
   "id": "53c214d5",
   "metadata": {},
   "source": [
    "Chargement et Prétraitement du Dataset"
   ]
  },
  {
   "cell_type": "markdown",
   "id": "e0f8d0d0",
   "metadata": {},
   "source": [
    "        Charger les images du dataset et vérifier leurs extensions (jpeg, jpg, bmp, png). Supprimer celles qui ne correspondent pas.\n"
   ]
  },
  {
   "cell_type": "code",
   "execution_count": 14,
   "id": "dcc1337d",
   "metadata": {},
   "outputs": [
    {
     "name": "stdout",
     "output_type": "stream",
     "text": [
      " Suppression terminée.\n"
     ]
    }
   ],
   "source": [
    "import os\n",
    "import cv2\n",
    "\n",
    "data_dir = \"../data/Data/\"\n",
    "\n",
    "valid_extensions = ('.jpg', '.jpeg', '.png', '.bmp')\n",
    "\n",
    "# Parcourir tous les sous-dossiers (glioma, meningioma, etc.)\n",
    "for folder in os.listdir(data_dir):\n",
    "    folder_path = os.path.join(data_dir, folder)\n",
    "    \n",
    "    if os.path.isdir(folder_path):\n",
    "        for file in os.listdir(folder_path):\n",
    "            file_path = os.path.join(folder_path, file)\n",
    "            ext = os.path.splitext(file)[1].lower()  # extraire l’extension\n",
    "            \n",
    "            if ext not in valid_extensions:\n",
    "                os.remove(file_path)\n",
    "                print(f\" Fichier supprimé : {file_path}\")\n",
    "\n",
    "print(\" Suppression terminée.\")\n"
   ]
  },
  {
   "cell_type": "markdown",
   "id": "4720793d",
   "metadata": {},
   "source": [
    "    Explorer les classes du dataset (les noms des dossiers représentent les classes).\n",
    "    Mélanger les images de toutes les classes dans deux listes :\n",
    "        une pour les images et une autre pour les étiquettes.\n",
    "        Chaque image et son label doivent avoir le même indice dans les deux listes.\n",
    "    Redimensionner les images à une taille fixe (ex. 224×224) à l’aide de la bibliothèque OpenCV.\n",
    "\n"
   ]
  },
  {
   "cell_type": "code",
   "execution_count": 15,
   "id": "700f37fb",
   "metadata": {},
   "outputs": [
    {
     "name": "stdout",
     "output_type": "stream",
     "text": [
      "Total images : 7023\n",
      "Total labels : 7023\n",
      "Classes trouvées : {'meningioma', 'pituitary', 'notumor', 'glioma'}\n"
     ]
    }
   ],
   "source": [
    "imgs = []\n",
    "labels = []\n",
    "\n",
    "# Parcourir les classes (les sous-dossiers)\n",
    "for c in os.listdir(data_dir):\n",
    "    class_path = os.path.join(data_dir, c)\n",
    "    if os.path.isdir(class_path):\n",
    "        try:\n",
    "            file_images = os.listdir(class_path)\n",
    "            for f in file_images:\n",
    "                if f.lower().endswith(valid_extensions):  \n",
    "                    img_path = os.path.join(class_path, f)\n",
    "                    img = cv2.imread(img_path)\n",
    "                    if img is not None:\n",
    "                        img = cv2.resize(img, (224, 224)) \n",
    "                        imgs.append(img)\n",
    "                        labels.append(c)\n",
    "                    else:\n",
    "                        print(\" Image non lisible :\", img_path)\n",
    "        except Exception as e:\n",
    "            print(\"Erreur lors du chargement d'une image :\", e)\n",
    "\n",
    "print(\"Total images :\", len(imgs))\n",
    "print(\"Total labels :\", len(labels))\n",
    "print(\"Classes trouvées :\", set(labels))\n"
   ]
  }
 ],
 "metadata": {
  "kernelspec": {
   "display_name": ".venv",
   "language": "python",
   "name": "python3"
  },
  "language_info": {
   "codemirror_mode": {
    "name": "ipython",
    "version": 3
   },
   "file_extension": ".py",
   "mimetype": "text/x-python",
   "name": "python",
   "nbconvert_exporter": "python",
   "pygments_lexer": "ipython3",
   "version": "3.13.7"
  }
 },
 "nbformat": 4,
 "nbformat_minor": 5
}
