{
 "cells": [
  {
   "cell_type": "markdown",
   "id": "53c214d5",
   "metadata": {},
   "source": [
    "Chargement et Prétraitement du Dataset"
   ]
  },
  {
   "cell_type": "code",
   "execution_count": null,
   "id": "30a34daf",
   "metadata": {},
   "outputs": [],
   "source": [
    "import os\n",
    "import cv2\n",
    "import numpy as np\n"
   ]
  }
 ],
 "metadata": {
  "language_info": {
   "name": "python"
  }
 },
 "nbformat": 4,
 "nbformat_minor": 5
}
